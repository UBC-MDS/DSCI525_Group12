{
 "cells": [
  {
   "cell_type": "markdown",
   "id": "df41e200-e2eb-4272-9228-6064a3e82ed2",
   "metadata": {},
   "source": [
    "# DSCI 525 - Web and Cloud Computing\n",
    "\n",
    "### Team members: \n",
    "- Chen Lin, Edward Yukun Zhang, Jakob Thoms, Vikram Grewal\n",
    "\n",
    "## Milestone 1: Tackling big data on your laptop\n",
    "\n",
    "## Overall project goal and data\n",
    "\n",
    "During this course, you will be working on a team project involving big\n",
    "data. The purpose is to get exposure to working with much larger\n",
    "datasets than you have previously in MDS. You have been assigned to\n",
    "teams of three or four. (See group assignment in\n",
    "[Canvas](https://canvas.ubc.ca/courses/106517). Unlike previous project\n",
    "courses, in this course, all of you will be working on **the same\n",
    "problem**. In particular, you will be building and deploying ensemble\n",
    "machine learning models in the cloud to predict daily rainfall in\n",
    "Australia on a large dataset (\\~6 GB), where features are outputs of\n",
    "different climate models, and the target is the actual rainfall\n",
    "observation.\n",
    "\n",
    "You will be using [this dataset on\n",
    "figshare](https://figshare.com/articles/dataset/Daily_rainfall_over_NSW_Australia/14096681).\n",
    "This folder has the output of different climate models as features, and\n",
    "our ultimate goal is to build an ensemble model on these outputs and\n",
    "compare the results with the actual rainfall. At the end of the project,\n",
    "you should have your ML model deployed in the cloud for others to use.\n",
    "\n",
    "During this course, you will work towards this goal step by step in four\n",
    "milestones.\n",
    "\n",
    "<br><br>\n",
    "\n",
    "## Milestone 1 checklist\n",
    "\n",
    "Part of the purpose of this milestone is to annoy you by making you work\n",
    "with large data in `Pandas` and vanilla CSV files. Typically these are\n",
    "not the best for dealing with large data. Along the way, you will also\n",
    "explore some useful tools for working with big data."
   ]
  },
  {
   "cell_type": "markdown",
   "id": "d6344e97-38df-4f8f-8938-6ba929c1d2bd",
   "metadata": {},
   "source": [
    "### 1. Team-work contract\n",
    "\n",
    "rubric={correctness:10}\n",
    "\n",
    "Similar to what you did in DSCI 522 and DSCI 524, create a teamwork\n",
    "contract. The contract should outline how you are committed to working\n",
    "together so that you are accountable to one another. Again, you may\n",
    "start with your team contract document from previous project courses and\n",
    "adapt it to your new team. It is a fairly personal document, and please\n",
    "do not push it into your public repositories. Instead, save it somewhere\n",
    "your team can easily share it, and you can share a link to it or a copy"
   ]
  },
  {
   "cell_type": "markdown",
   "id": "5874718d-7bd5-4582-80fc-ea701b97dfa0",
   "metadata": {},
   "source": [
    "### 2. Creating a repository and project structure\n",
    "\n",
    "rubric={mechanics:10}\n",
    "\n",
    "1.  Similar to previous project courses, create a [public repository](https://github.com/UBC-MDS/DSCI525_Group12)\n",
    "    under [UBC-MDS org](https://github.com/UBC-MDS) for your project.\n",
    "2.  Write a brief introduction of the project in the `README`.\n",
    "3.  Create a folder called `notebooks` in the repository and create a\n",
    "    notebook for this milestone in that folder."
   ]
  },
  {
   "cell_type": "markdown",
   "id": "5449c34c-cbf8-458c-a878-9dbc8c71ed91",
   "metadata": {
    "tags": []
   },
   "source": [
    "### 3. Downloading the data\n",
    "\n",
    "rubric={correctness:10}\n",
    "\n",
    "1.  Download the data from\n",
    "    [figshare](https://figshare.com/articles/dataset/Daily_rainfall_over_NSW_Australia/14096681)\n",
    "    to your local computer using the [figshare\n",
    "    API](https://docs.figshare.com) (you need to make use of `requests`\n",
    "    library).\n",
    "\n",
    "2.  Extract the zip file, again programmatically, similar to how we did\n",
    "    it in class.\n",
    "\n",
    "> You can download the data and unzip it manually. But we learned about\n",
    "> APIs, so we can do it in a reproducible way with the `requests`\n",
    "> library, similar to how we [did it in\n",
    "> class](https://pages.github.ubc.ca/MDS-2022-23/DSCI_525_web-cloud-comp_students/lectures/lecture1.html#using-rest-api-lab-lecture).\n",
    "\n",
    "> There are 5 files in the figshare repo. The one we want is: `data.zip`"
   ]
  },
  {
   "cell_type": "code",
   "execution_count": 1,
   "id": "9245ce6d-5d2b-421b-9d78-65f5059be5a3",
   "metadata": {},
   "outputs": [],
   "source": [
    "import re\n",
    "import os\n",
    "import glob\n",
    "import zipfile\n",
    "import requests\n",
    "from urllib.request import urlretrieve\n",
    "import json\n",
    "import pandas as pd"
   ]
  },
  {
   "cell_type": "code",
   "execution_count": 2,
   "id": "33c105c9-eb5d-43ff-b42b-a8b82d6d8103",
   "metadata": {},
   "outputs": [
    {
     "name": "stdout",
     "output_type": "stream",
     "text": [
      "mkdir: /Users/clin404/Documents/UBC_MDS/Block6/DSCI525/figshareexp: File exists\n",
      "/Users/clin404/Documents/UBC_MDS/Block6/DSCI525/figshareexp\n"
     ]
    }
   ],
   "source": [
    "%mkdir /Users/clin404/Documents/UBC_MDS/Block6/DSCI525/figshareexp\n",
    "%cd /Users/clin404/Documents/UBC_MDS/Block6/DSCI525/figshareexp"
   ]
  },
  {
   "cell_type": "code",
   "execution_count": 3,
   "id": "c016c035-031b-449a-accf-16b2a981b9b2",
   "metadata": {},
   "outputs": [],
   "source": [
    "# Necessary metadata\n",
    "article_id = 14096681  # this is the unique identifier of the article on figshare\n",
    "url = f\"https://api.figshare.com/v2/articles/{article_id}\"\n",
    "headers = {\"Content-Type\": \"application/json\"}\n",
    "output_directory = \"figsharerainfall/\""
   ]
  },
  {
   "cell_type": "code",
   "execution_count": 4,
   "id": "092aabdb-ac33-4293-a9a5-134b27c97000",
   "metadata": {},
   "outputs": [
    {
     "data": {
      "text/plain": [
       "[{'id': 26579150,\n",
       "  'name': 'daily_rainfall_2014.png',\n",
       "  'size': 58863,\n",
       "  'is_link_only': False,\n",
       "  'download_url': 'https://ndownloader.figshare.com/files/26579150',\n",
       "  'supplied_md5': 'fd32a2ffde300a31f8d63b1825d47e5e',\n",
       "  'computed_md5': 'fd32a2ffde300a31f8d63b1825d47e5e'},\n",
       " {'id': 26579171,\n",
       "  'name': 'environment.yml',\n",
       "  'size': 192,\n",
       "  'is_link_only': False,\n",
       "  'download_url': 'https://ndownloader.figshare.com/files/26579171',\n",
       "  'supplied_md5': '060b2020017eed93a1ee7dd8c65b2f34',\n",
       "  'computed_md5': '060b2020017eed93a1ee7dd8c65b2f34'},\n",
       " {'id': 26586554,\n",
       "  'name': 'README.md',\n",
       "  'size': 5422,\n",
       "  'is_link_only': False,\n",
       "  'download_url': 'https://ndownloader.figshare.com/files/26586554',\n",
       "  'supplied_md5': '61858c6cc0e6a6d6663a7e4c75bbd88c',\n",
       "  'computed_md5': '61858c6cc0e6a6d6663a7e4c75bbd88c'},\n",
       " {'id': 26766812,\n",
       "  'name': 'data.zip',\n",
       "  'size': 814041183,\n",
       "  'is_link_only': False,\n",
       "  'download_url': 'https://ndownloader.figshare.com/files/26766812',\n",
       "  'supplied_md5': 'b517383f76e77bd03755a63a8ff83ee9',\n",
       "  'computed_md5': 'b517383f76e77bd03755a63a8ff83ee9'},\n",
       " {'id': 26766815,\n",
       "  'name': 'get_data.py',\n",
       "  'size': 4113,\n",
       "  'is_link_only': False,\n",
       "  'download_url': 'https://ndownloader.figshare.com/files/26766815',\n",
       "  'supplied_md5': '7829028495fd9dec9680ea013474afa6',\n",
       "  'computed_md5': '7829028495fd9dec9680ea013474afa6'}]"
      ]
     },
     "execution_count": 4,
     "metadata": {},
     "output_type": "execute_result"
    }
   ],
   "source": [
    "response = requests.request(\"GET\", url, headers=headers)\n",
    "data = json.loads(response.text)  # this contains all the articles data, feel free to check it out\n",
    "files = data[\"files\"]             # this is just the data about the files, which is what we want\n",
    "files"
   ]
  },
  {
   "cell_type": "code",
   "execution_count": 5,
   "id": "f5814c48-0913-4261-8f8d-01e73ea6184f",
   "metadata": {},
   "outputs": [
    {
     "name": "stdout",
     "output_type": "stream",
     "text": [
      "CPU times: user 2.34 s, sys: 2.91 s, total: 5.26 s\n",
      "Wall time: 58.2 s\n"
     ]
    }
   ],
   "source": [
    "%%time\n",
    "files_to_dl = [\"data.zip\"]  # feel free to add other files here\n",
    "for file in files:\n",
    "    if file[\"name\"] in files_to_dl:\n",
    "        os.makedirs(output_directory, exist_ok=True)\n",
    "        urlretrieve(file[\"download_url\"], output_directory + file[\"name\"])"
   ]
  },
  {
   "cell_type": "code",
   "execution_count": 6,
   "id": "0b407488-f8a8-402d-96e1-f521c257f8e5",
   "metadata": {},
   "outputs": [
    {
     "name": "stdout",
     "output_type": "stream",
     "text": [
      "CPU times: user 7.41 s, sys: 952 ms, total: 8.36 s\n",
      "Wall time: 8.42 s\n"
     ]
    }
   ],
   "source": [
    "%%time\n",
    "with zipfile.ZipFile(os.path.join(output_directory, \"data.zip\"), 'r') as f:\n",
    "    f.extractall(output_directory)"
   ]
  },
  {
   "cell_type": "code",
   "execution_count": 7,
   "id": "c3b1b4be-4639-4214-b915-7aa121d8a180",
   "metadata": {},
   "outputs": [
    {
     "name": "stdout",
     "output_type": "stream",
     "text": [
      "total 12049264\n",
      "-rw-r--r--   1 clin404  staff  814041183 28 Mar 21:47 data.zip\n",
      "-rw-r--r--   1 clin404  staff   95376895 28 Mar 21:47 MPI-ESM-1-2-HAM_daily_rainfall_NSW.csv\n",
      "-rw-r--r--   1 clin404  staff   94960113 28 Mar 21:47 AWI-ESM-1-1-LR_daily_rainfall_NSW.csv\n",
      "-rw-r--r--   1 clin404  staff   82474546 28 Mar 21:47 NorESM2-LM_daily_rainfall_NSW.csv\n",
      "-rw-r--r--   1 clin404  staff  127613760 28 Mar 21:47 ACCESS-CM2_daily_rainfall_NSW.csv\n",
      "-rw-r--r--   1 clin404  staff  232118894 28 Mar 21:47 FGOALS-f3-L_daily_rainfall_NSW.csv\n",
      "-rw-r--r--   1 clin404  staff  330360682 28 Mar 21:47 CMCC-CM2-HR4_daily_rainfall_NSW.csv\n",
      "-rw-r--r--   1 clin404  staff  254009247 28 Mar 21:47 MRI-ESM2-0_daily_rainfall_NSW.csv\n",
      "-rw-r--r--   1 clin404  staff  235661418 28 Mar 21:47 GFDL-CM4_daily_rainfall_NSW.csv\n",
      "-rw-r--r--   1 clin404  staff  294260911 28 Mar 21:47 BCC-CSM2-MR_daily_rainfall_NSW.csv\n",
      "-rw-r--r--   1 clin404  staff  295768615 28 Mar 21:47 EC-Earth3-Veg-LR_daily_rainfall_NSW.csv\n",
      "-rw-r--r--   1 clin404  staff  328852379 28 Mar 21:47 CMCC-ESM2_daily_rainfall_NSW.csv\n",
      "-rw-r--r--   1 clin404  staff   67784105 28 Mar 21:47 NESM3_daily_rainfall_NSW.csv\n",
      "-rw-r--r--   1 clin404  staff   95640682 28 Mar 21:47 MPI-ESM1-2-LR_daily_rainfall_NSW.csv\n",
      "-rw-r--r--   1 clin404  staff  114707410 28 Mar 21:47 ACCESS-ESM1-5_daily_rainfall_NSW.csv\n",
      "-rw-r--r--   1 clin404  staff  116179272 28 Mar 21:47 FGOALS-g3_daily_rainfall_NSW.csv\n",
      "-rw-r--r--   1 clin404  staff  102517965 28 Mar 21:47 INM-CM4-8_daily_rainfall_NSW.csv\n",
      "-rw-r--r--   1 clin404  staff  515458033 28 Mar 21:47 MPI-ESM1-2-HR_daily_rainfall_NSW.csv\n",
      "-rw-r--r--   1 clin404  staff  332813281 28 Mar 21:47 TaiESM1_daily_rainfall_NSW.csv\n",
      "-rw-r--r--   1 clin404  staff  337555851 28 Mar 21:47 NorESM2-MM_daily_rainfall_NSW.csv\n",
      "-rw-r--r--   1 clin404  staff  328787320 28 Mar 21:47 CMCC-CM2-SR5_daily_rainfall_NSW.csv\n",
      "-rw-r--r--   1 clin404  staff     952202 28 Mar 21:47 observed_daily_rainfall_SYD.csv\n",
      "-rw-r--r--   1 clin404  staff   93829697 28 Mar 21:47 KIOST-ESM_daily_rainfall_NSW.csv\n",
      "-rw-r--r--   1 clin404  staff  102692289 28 Mar 21:47 INM-CM5-0_daily_rainfall_NSW.csv\n",
      "-rw-r--r--   1 clin404  staff  206822938 28 Mar 21:47 MIROC6_daily_rainfall_NSW.csv\n",
      "-rw-r--r--   1 clin404  staff   55224437 28 Mar 21:47 BCC-ESM1_daily_rainfall_NSW.csv\n",
      "-rw-r--r--   1 clin404  staff  124586961 28 Mar 21:48 GFDL-ESM4_daily_rainfall_NSW.csv\n",
      "-rw-r--r--   1 clin404  staff   46286371 28 Mar 21:48 CanESM5_daily_rainfall_NSW.csv\n",
      "-rw-r--r--   1 clin404  staff  333489879 28 Mar 21:48 SAM0-UNICON_daily_rainfall_NSW.csv\n",
      "drwxr-xr-x  30 clin404  staff        960 28 Mar 21:48 \u001b[1m\u001b[34m__MACOSX\u001b[m\u001b[m/\n"
     ]
    }
   ],
   "source": [
    "%ls -ltr figsharerainfall/"
   ]
  },
  {
   "cell_type": "code",
   "execution_count": 8,
   "id": "9ce922ac-fd0d-4b7d-8488-8fbc6c49a5a8",
   "metadata": {},
   "outputs": [
    {
     "name": "stdout",
     "output_type": "stream",
     "text": [
      "CPU times: user 386 ms, sys: 28 ms, total: 414 ms\n",
      "Wall time: 413 ms\n"
     ]
    },
    {
     "data": {
      "text/html": [
       "<div>\n",
       "<style scoped>\n",
       "    .dataframe tbody tr th:only-of-type {\n",
       "        vertical-align: middle;\n",
       "    }\n",
       "\n",
       "    .dataframe tbody tr th {\n",
       "        vertical-align: top;\n",
       "    }\n",
       "\n",
       "    .dataframe thead th {\n",
       "        text-align: right;\n",
       "    }\n",
       "</style>\n",
       "<table border=\"1\" class=\"dataframe\">\n",
       "  <thead>\n",
       "    <tr style=\"text-align: right;\">\n",
       "      <th></th>\n",
       "      <th>time</th>\n",
       "      <th>lat_min</th>\n",
       "      <th>lat_max</th>\n",
       "      <th>lon_min</th>\n",
       "      <th>lon_max</th>\n",
       "      <th>rain (mm/day)</th>\n",
       "    </tr>\n",
       "  </thead>\n",
       "  <tbody>\n",
       "    <tr>\n",
       "      <th>0</th>\n",
       "      <td>1889-01-01 12:00:00</td>\n",
       "      <td>-35.439867</td>\n",
       "      <td>-33.574619</td>\n",
       "      <td>141.5625</td>\n",
       "      <td>143.4375</td>\n",
       "      <td>4.244226e-13</td>\n",
       "    </tr>\n",
       "    <tr>\n",
       "      <th>1</th>\n",
       "      <td>1889-01-02 12:00:00</td>\n",
       "      <td>-35.439867</td>\n",
       "      <td>-33.574619</td>\n",
       "      <td>141.5625</td>\n",
       "      <td>143.4375</td>\n",
       "      <td>4.217326e-13</td>\n",
       "    </tr>\n",
       "    <tr>\n",
       "      <th>2</th>\n",
       "      <td>1889-01-03 12:00:00</td>\n",
       "      <td>-35.439867</td>\n",
       "      <td>-33.574619</td>\n",
       "      <td>141.5625</td>\n",
       "      <td>143.4375</td>\n",
       "      <td>4.498125e-13</td>\n",
       "    </tr>\n",
       "    <tr>\n",
       "      <th>3</th>\n",
       "      <td>1889-01-04 12:00:00</td>\n",
       "      <td>-35.439867</td>\n",
       "      <td>-33.574619</td>\n",
       "      <td>141.5625</td>\n",
       "      <td>143.4375</td>\n",
       "      <td>4.251282e-13</td>\n",
       "    </tr>\n",
       "    <tr>\n",
       "      <th>4</th>\n",
       "      <td>1889-01-05 12:00:00</td>\n",
       "      <td>-35.439867</td>\n",
       "      <td>-33.574619</td>\n",
       "      <td>141.5625</td>\n",
       "      <td>143.4375</td>\n",
       "      <td>4.270161e-13</td>\n",
       "    </tr>\n",
       "    <tr>\n",
       "      <th>...</th>\n",
       "      <td>...</td>\n",
       "      <td>...</td>\n",
       "      <td>...</td>\n",
       "      <td>...</td>\n",
       "      <td>...</td>\n",
       "      <td>...</td>\n",
       "    </tr>\n",
       "    <tr>\n",
       "      <th>966415</th>\n",
       "      <td>2014-12-27 12:00:00</td>\n",
       "      <td>-31.709369</td>\n",
       "      <td>-29.844118</td>\n",
       "      <td>152.8125</td>\n",
       "      <td>154.6875</td>\n",
       "      <td>3.218651e-04</td>\n",
       "    </tr>\n",
       "    <tr>\n",
       "      <th>966416</th>\n",
       "      <td>2014-12-28 12:00:00</td>\n",
       "      <td>-31.709369</td>\n",
       "      <td>-29.844118</td>\n",
       "      <td>152.8125</td>\n",
       "      <td>154.6875</td>\n",
       "      <td>4.609420e-13</td>\n",
       "    </tr>\n",
       "    <tr>\n",
       "      <th>966417</th>\n",
       "      <td>2014-12-29 12:00:00</td>\n",
       "      <td>-31.709369</td>\n",
       "      <td>-29.844118</td>\n",
       "      <td>152.8125</td>\n",
       "      <td>154.6875</td>\n",
       "      <td>5.685789e+00</td>\n",
       "    </tr>\n",
       "    <tr>\n",
       "      <th>966418</th>\n",
       "      <td>2014-12-30 12:00:00</td>\n",
       "      <td>-31.709369</td>\n",
       "      <td>-29.844118</td>\n",
       "      <td>152.8125</td>\n",
       "      <td>154.6875</td>\n",
       "      <td>1.231543e+01</td>\n",
       "    </tr>\n",
       "    <tr>\n",
       "      <th>966419</th>\n",
       "      <td>2014-12-31 12:00:00</td>\n",
       "      <td>-31.709369</td>\n",
       "      <td>-29.844118</td>\n",
       "      <td>152.8125</td>\n",
       "      <td>154.6875</td>\n",
       "      <td>6.329306e+00</td>\n",
       "    </tr>\n",
       "  </tbody>\n",
       "</table>\n",
       "<p>966420 rows × 6 columns</p>\n",
       "</div>"
      ],
      "text/plain": [
       "                       time    lat_min    lat_max   lon_min   lon_max  \\\n",
       "0       1889-01-01 12:00:00 -35.439867 -33.574619  141.5625  143.4375   \n",
       "1       1889-01-02 12:00:00 -35.439867 -33.574619  141.5625  143.4375   \n",
       "2       1889-01-03 12:00:00 -35.439867 -33.574619  141.5625  143.4375   \n",
       "3       1889-01-04 12:00:00 -35.439867 -33.574619  141.5625  143.4375   \n",
       "4       1889-01-05 12:00:00 -35.439867 -33.574619  141.5625  143.4375   \n",
       "...                     ...        ...        ...       ...       ...   \n",
       "966415  2014-12-27 12:00:00 -31.709369 -29.844118  152.8125  154.6875   \n",
       "966416  2014-12-28 12:00:00 -31.709369 -29.844118  152.8125  154.6875   \n",
       "966417  2014-12-29 12:00:00 -31.709369 -29.844118  152.8125  154.6875   \n",
       "966418  2014-12-30 12:00:00 -31.709369 -29.844118  152.8125  154.6875   \n",
       "966419  2014-12-31 12:00:00 -31.709369 -29.844118  152.8125  154.6875   \n",
       "\n",
       "        rain (mm/day)  \n",
       "0        4.244226e-13  \n",
       "1        4.217326e-13  \n",
       "2        4.498125e-13  \n",
       "3        4.251282e-13  \n",
       "4        4.270161e-13  \n",
       "...               ...  \n",
       "966415   3.218651e-04  \n",
       "966416   4.609420e-13  \n",
       "966417   5.685789e+00  \n",
       "966418   1.231543e+01  \n",
       "966419   6.329306e+00  \n",
       "\n",
       "[966420 rows x 6 columns]"
      ]
     },
     "execution_count": 8,
     "metadata": {},
     "output_type": "execute_result"
    }
   ],
   "source": [
    "%%time\n",
    "df_mpi = pd.read_csv(\"figsharerainfall/MPI-ESM-1-2-HAM_daily_rainfall_NSW.csv\")\n",
    "df_mpi"
   ]
  },
  {
   "cell_type": "code",
   "execution_count": 9,
   "id": "d3821cae-6fb5-4844-ae93-c02b0f9affde",
   "metadata": {},
   "outputs": [
    {
     "name": "stdout",
     "output_type": "stream",
     "text": [
      "CPU times: user 388 ms, sys: 30.4 ms, total: 418 ms\n",
      "Wall time: 418 ms\n"
     ]
    },
    {
     "data": {
      "text/html": [
       "<div>\n",
       "<style scoped>\n",
       "    .dataframe tbody tr th:only-of-type {\n",
       "        vertical-align: middle;\n",
       "    }\n",
       "\n",
       "    .dataframe tbody tr th {\n",
       "        vertical-align: top;\n",
       "    }\n",
       "\n",
       "    .dataframe thead th {\n",
       "        text-align: right;\n",
       "    }\n",
       "</style>\n",
       "<table border=\"1\" class=\"dataframe\">\n",
       "  <thead>\n",
       "    <tr style=\"text-align: right;\">\n",
       "      <th></th>\n",
       "      <th>time</th>\n",
       "      <th>lat_min</th>\n",
       "      <th>lat_max</th>\n",
       "      <th>lon_min</th>\n",
       "      <th>lon_max</th>\n",
       "      <th>rain (mm/day)</th>\n",
       "    </tr>\n",
       "  </thead>\n",
       "  <tbody>\n",
       "    <tr>\n",
       "      <th>0</th>\n",
       "      <td>1889-01-01 12:00:00</td>\n",
       "      <td>-35.439867</td>\n",
       "      <td>-33.574619</td>\n",
       "      <td>141.5625</td>\n",
       "      <td>143.4375</td>\n",
       "      <td>3.129635e-02</td>\n",
       "    </tr>\n",
       "    <tr>\n",
       "      <th>1</th>\n",
       "      <td>1889-01-02 12:00:00</td>\n",
       "      <td>-35.439867</td>\n",
       "      <td>-33.574619</td>\n",
       "      <td>141.5625</td>\n",
       "      <td>143.4375</td>\n",
       "      <td>1.083881e-13</td>\n",
       "    </tr>\n",
       "    <tr>\n",
       "      <th>2</th>\n",
       "      <td>1889-01-03 12:00:00</td>\n",
       "      <td>-35.439867</td>\n",
       "      <td>-33.574619</td>\n",
       "      <td>141.5625</td>\n",
       "      <td>143.4375</td>\n",
       "      <td>1.056313e-13</td>\n",
       "    </tr>\n",
       "    <tr>\n",
       "      <th>3</th>\n",
       "      <td>1889-01-04 12:00:00</td>\n",
       "      <td>-35.439867</td>\n",
       "      <td>-33.574619</td>\n",
       "      <td>141.5625</td>\n",
       "      <td>143.4375</td>\n",
       "      <td>1.080510e-13</td>\n",
       "    </tr>\n",
       "    <tr>\n",
       "      <th>4</th>\n",
       "      <td>1889-01-05 12:00:00</td>\n",
       "      <td>-35.439867</td>\n",
       "      <td>-33.574619</td>\n",
       "      <td>141.5625</td>\n",
       "      <td>143.4375</td>\n",
       "      <td>9.914916e-14</td>\n",
       "    </tr>\n",
       "    <tr>\n",
       "      <th>...</th>\n",
       "      <td>...</td>\n",
       "      <td>...</td>\n",
       "      <td>...</td>\n",
       "      <td>...</td>\n",
       "      <td>...</td>\n",
       "      <td>...</td>\n",
       "    </tr>\n",
       "    <tr>\n",
       "      <th>966415</th>\n",
       "      <td>2014-12-27 12:00:00</td>\n",
       "      <td>-31.709369</td>\n",
       "      <td>-29.844118</td>\n",
       "      <td>152.8125</td>\n",
       "      <td>154.6875</td>\n",
       "      <td>1.088772e-13</td>\n",
       "    </tr>\n",
       "    <tr>\n",
       "      <th>966416</th>\n",
       "      <td>2014-12-28 12:00:00</td>\n",
       "      <td>-31.709369</td>\n",
       "      <td>-29.844118</td>\n",
       "      <td>152.8125</td>\n",
       "      <td>154.6875</td>\n",
       "      <td>7.857531e-02</td>\n",
       "    </tr>\n",
       "    <tr>\n",
       "      <th>966417</th>\n",
       "      <td>2014-12-29 12:00:00</td>\n",
       "      <td>-31.709369</td>\n",
       "      <td>-29.844118</td>\n",
       "      <td>152.8125</td>\n",
       "      <td>154.6875</td>\n",
       "      <td>3.825708e+00</td>\n",
       "    </tr>\n",
       "    <tr>\n",
       "      <th>966418</th>\n",
       "      <td>2014-12-30 12:00:00</td>\n",
       "      <td>-31.709369</td>\n",
       "      <td>-29.844118</td>\n",
       "      <td>152.8125</td>\n",
       "      <td>154.6875</td>\n",
       "      <td>6.477188e+00</td>\n",
       "    </tr>\n",
       "    <tr>\n",
       "      <th>966419</th>\n",
       "      <td>2014-12-31 12:00:00</td>\n",
       "      <td>-31.709369</td>\n",
       "      <td>-29.844118</td>\n",
       "      <td>152.8125</td>\n",
       "      <td>154.6875</td>\n",
       "      <td>3.223464e+00</td>\n",
       "    </tr>\n",
       "  </tbody>\n",
       "</table>\n",
       "<p>966420 rows × 6 columns</p>\n",
       "</div>"
      ],
      "text/plain": [
       "                       time    lat_min    lat_max   lon_min   lon_max  \\\n",
       "0       1889-01-01 12:00:00 -35.439867 -33.574619  141.5625  143.4375   \n",
       "1       1889-01-02 12:00:00 -35.439867 -33.574619  141.5625  143.4375   \n",
       "2       1889-01-03 12:00:00 -35.439867 -33.574619  141.5625  143.4375   \n",
       "3       1889-01-04 12:00:00 -35.439867 -33.574619  141.5625  143.4375   \n",
       "4       1889-01-05 12:00:00 -35.439867 -33.574619  141.5625  143.4375   \n",
       "...                     ...        ...        ...       ...       ...   \n",
       "966415  2014-12-27 12:00:00 -31.709369 -29.844118  152.8125  154.6875   \n",
       "966416  2014-12-28 12:00:00 -31.709369 -29.844118  152.8125  154.6875   \n",
       "966417  2014-12-29 12:00:00 -31.709369 -29.844118  152.8125  154.6875   \n",
       "966418  2014-12-30 12:00:00 -31.709369 -29.844118  152.8125  154.6875   \n",
       "966419  2014-12-31 12:00:00 -31.709369 -29.844118  152.8125  154.6875   \n",
       "\n",
       "        rain (mm/day)  \n",
       "0        3.129635e-02  \n",
       "1        1.083881e-13  \n",
       "2        1.056313e-13  \n",
       "3        1.080510e-13  \n",
       "4        9.914916e-14  \n",
       "...               ...  \n",
       "966415   1.088772e-13  \n",
       "966416   7.857531e-02  \n",
       "966417   3.825708e+00  \n",
       "966418   6.477188e+00  \n",
       "966419   3.223464e+00  \n",
       "\n",
       "[966420 rows x 6 columns]"
      ]
     },
     "execution_count": 9,
     "metadata": {},
     "output_type": "execute_result"
    }
   ],
   "source": [
    "%%time\n",
    "df_awi = pd.read_csv(\"figsharerainfall/AWI-ESM-1-1-LR_daily_rainfall_NSW.csv\")\n",
    "df_awi"
   ]
  },
  {
   "cell_type": "markdown",
   "id": "9ab0df52-5008-42c0-8855-c82affea7856",
   "metadata": {
    "tags": []
   },
   "source": [
    "### 4. Combining data CSVs\n",
    "\n",
    "rubric={correctness:10,reasoning:10}\n",
    "\n",
    "1.  Combine data CSVs into a single CSV using pandas.\n",
    "\n",
    "2.  When combining the CSV files, add an extra column called \"model\"\n",
    "    that identifies the model. \n",
    "    - Tip 1: you can get this column populated\n",
    "    from the file name, eg: for file name\n",
    "    \"SAM0-UNICON_daily_rainfall_NSW.csv\", the model name is SAM0-UNICON\n",
    "    \n",
    "    - Tip 2: Remember how we added \"year\" column when we combined airline\n",
    "    CSVs. Here the regex will be to get word before an underscore ie,\n",
    "    \"/([\\^\\_]\\*)\"\n",
    "\n",
    "> Note: There is a file called `observed_daily_rainfall_SYD.csv` in the\n",
    "> data folder that you downloaded. Make sure you exclude this file\n",
    "> (programmatically or just take out that file from the folder) before\n",
    "> you combine CSVs. We will use this file in our next milestone.\n",
    "\n",
    "3.  ***Compare*** run times on different machines within your team and\n",
    "    summarize your observations.\n",
    "\n",
    "> Warning: Some of you might not be able to do it on your laptop. It's\n",
    "> fine if you're unable to do it. Just make sure you discuss the reasons\n",
    "> why you might not have been able to run this on your laptop."
   ]
  },
  {
   "cell_type": "code",
   "execution_count": 10,
   "id": "916fb4c1-b70b-4b25-a9d2-2583f6a795af",
   "metadata": {},
   "outputs": [
    {
     "name": "stdout",
     "output_type": "stream",
     "text": [
      "/Users/clin404/Documents/UBC_MDS/Block6/DSCI525/figshareexp/figsharerainfall\n"
     ]
    }
   ],
   "source": [
    "%cd figsharerainfall"
   ]
  },
  {
   "cell_type": "code",
   "execution_count": 11,
   "id": "01f177ab-a289-4ffa-84c2-ce67eac3e744",
   "metadata": {},
   "outputs": [],
   "source": [
    "files = glob.glob('*.csv')\n",
    "files.remove('observed_daily_rainfall_SYD.csv')\n",
    "# Note to delete the created daily_rainfall.csv"
   ]
  },
  {
   "cell_type": "code",
   "execution_count": 12,
   "id": "da9883ca-6d6f-48b4-bdc6-02b8513c86ae",
   "metadata": {},
   "outputs": [
    {
     "data": {
      "text/plain": [
       "['MPI-ESM-1-2-HAM_daily_rainfall_NSW.csv',\n",
       " 'AWI-ESM-1-1-LR_daily_rainfall_NSW.csv',\n",
       " 'NorESM2-LM_daily_rainfall_NSW.csv',\n",
       " 'ACCESS-CM2_daily_rainfall_NSW.csv',\n",
       " 'FGOALS-f3-L_daily_rainfall_NSW.csv',\n",
       " 'CMCC-CM2-HR4_daily_rainfall_NSW.csv',\n",
       " 'MRI-ESM2-0_daily_rainfall_NSW.csv',\n",
       " 'GFDL-CM4_daily_rainfall_NSW.csv',\n",
       " 'BCC-CSM2-MR_daily_rainfall_NSW.csv',\n",
       " 'EC-Earth3-Veg-LR_daily_rainfall_NSW.csv',\n",
       " 'CMCC-ESM2_daily_rainfall_NSW.csv',\n",
       " 'NESM3_daily_rainfall_NSW.csv',\n",
       " 'MPI-ESM1-2-LR_daily_rainfall_NSW.csv',\n",
       " 'ACCESS-ESM1-5_daily_rainfall_NSW.csv',\n",
       " 'FGOALS-g3_daily_rainfall_NSW.csv',\n",
       " 'INM-CM4-8_daily_rainfall_NSW.csv',\n",
       " 'MPI-ESM1-2-HR_daily_rainfall_NSW.csv',\n",
       " 'TaiESM1_daily_rainfall_NSW.csv',\n",
       " 'NorESM2-MM_daily_rainfall_NSW.csv',\n",
       " 'CMCC-CM2-SR5_daily_rainfall_NSW.csv',\n",
       " 'KIOST-ESM_daily_rainfall_NSW.csv',\n",
       " 'INM-CM5-0_daily_rainfall_NSW.csv',\n",
       " 'MIROC6_daily_rainfall_NSW.csv',\n",
       " 'BCC-ESM1_daily_rainfall_NSW.csv',\n",
       " 'GFDL-ESM4_daily_rainfall_NSW.csv',\n",
       " 'CanESM5_daily_rainfall_NSW.csv',\n",
       " 'SAM0-UNICON_daily_rainfall_NSW.csv']"
      ]
     },
     "execution_count": 12,
     "metadata": {},
     "output_type": "execute_result"
    }
   ],
   "source": [
    "files"
   ]
  },
  {
   "cell_type": "code",
   "execution_count": 13,
   "id": "8f0dcb10-5348-4a38-b4cb-05d52a49f3a1",
   "metadata": {},
   "outputs": [
    {
     "name": "stdout",
     "output_type": "stream",
     "text": [
      "CPU times: user 30.4 s, sys: 7.77 s, total: 38.2 s\n",
      "Wall time: 38.3 s\n"
     ]
    }
   ],
   "source": [
    "%%time\n",
    "daily_rainfall_df = pd.DataFrame()\n",
    "\n",
    "for file in files:\n",
    "    temp_df = pd.read_csv(file)\n",
    "    temp_df['model'] = file.split(\"_\")[0]\n",
    "    daily_rainfall_df = pd.concat([daily_rainfall_df, temp_df])"
   ]
  },
  {
   "cell_type": "code",
   "execution_count": 14,
   "id": "5d104997-e013-4513-b881-d781d23b0267",
   "metadata": {},
   "outputs": [
    {
     "data": {
      "text/plain": [
       "(62467843, 7)"
      ]
     },
     "execution_count": 14,
     "metadata": {},
     "output_type": "execute_result"
    }
   ],
   "source": [
    "daily_rainfall_df.shape"
   ]
  },
  {
   "cell_type": "code",
   "execution_count": 15,
   "id": "a1b2eb7f-17e6-4da0-a6e0-84b80abb505a",
   "metadata": {},
   "outputs": [
    {
     "name": "stdout",
     "output_type": "stream",
     "text": [
      "CPU times: user 2min 51s, sys: 6.44 s, total: 2min 58s\n",
      "Wall time: 2min 58s\n"
     ]
    }
   ],
   "source": [
    "%%time\n",
    "daily_rainfall_df.to_csv(\"daily_rainfall.csv\", index=False)"
   ]
  },
  {
   "cell_type": "code",
   "execution_count": 24,
   "id": "37e9ce12-ae79-46a0-a70b-8be18f43ab6c",
   "metadata": {},
   "outputs": [],
   "source": [
    "use_cols = ['lat_min', 'lat_max', 'lon_min', 'lon_max', 'rain (mm/day)', 'model']"
   ]
  },
  {
   "cell_type": "markdown",
   "id": "c65636e0-0c0c-493b-847a-1a688f9b3e44",
   "metadata": {},
   "source": [
    "### 5. Load the combined CSV to memory and perform a simple EDA\n",
    "\n",
    "rubric={correctness:10,reasoning:10}\n",
    "\n",
    "1.  Investigate at least two of the following approaches to reduce\n",
    "    memory usage while performing the EDA (e.g., value_counts). Refer to\n",
    "    lecture notes\n",
    "    [here](https://pages.github.ubc.ca/MDS-2022-23/DSCI_525_web-cloud-comp_students/lectures/lecture1.html#some-tactics-to-deal-with-memory-issue).\n",
    "    - Changing `dtype` of your data\n",
    "    - Load just columns that we want\n",
    "    - Loading in chunks\n",
    "2.  ***Compare*** run times on different machines within your team and\n",
    "    summarize your observations."
   ]
  },
  {
   "cell_type": "code",
   "execution_count": 19,
   "id": "99feb494-d467-447f-a181-118326264eb3",
   "metadata": {},
   "outputs": [
    {
     "name": "stdout",
     "output_type": "stream",
     "text": [
      "CPU times: user 25.1 s, sys: 2.91 s, total: 28 s\n",
      "Wall time: 28.4 s\n"
     ]
    }
   ],
   "source": [
    "%%time\n",
    "df = pd.read_csv(\"daily_rainfall.csv\")"
   ]
  },
  {
   "cell_type": "markdown",
   "id": "dcf6d129-fb34-4fab-9df0-a1f9abe52e96",
   "metadata": {
    "tags": []
   },
   "source": [
    "#### 5.1-a Loading raw data without changing anything"
   ]
  },
  {
   "cell_type": "code",
   "execution_count": 20,
   "id": "55a01053-4d8f-442f-bd6e-b40da9658aca",
   "metadata": {},
   "outputs": [
    {
     "name": "stdout",
     "output_type": "stream",
     "text": [
      "CPU times: user 6.4 s, sys: 1.95 s, total: 8.35 s\n",
      "Wall time: 8.59 s\n"
     ]
    },
    {
     "data": {
      "text/html": [
       "<div>\n",
       "<style scoped>\n",
       "    .dataframe tbody tr th:only-of-type {\n",
       "        vertical-align: middle;\n",
       "    }\n",
       "\n",
       "    .dataframe tbody tr th {\n",
       "        vertical-align: top;\n",
       "    }\n",
       "\n",
       "    .dataframe thead th {\n",
       "        text-align: right;\n",
       "    }\n",
       "</style>\n",
       "<table border=\"1\" class=\"dataframe\">\n",
       "  <thead>\n",
       "    <tr style=\"text-align: right;\">\n",
       "      <th></th>\n",
       "      <th>lat_min</th>\n",
       "      <th>lat_max</th>\n",
       "      <th>lon_min</th>\n",
       "      <th>lon_max</th>\n",
       "      <th>rain (mm/day)</th>\n",
       "    </tr>\n",
       "  </thead>\n",
       "  <tbody>\n",
       "    <tr>\n",
       "      <th>count</th>\n",
       "      <td>5.924854e+07</td>\n",
       "      <td>6.246784e+07</td>\n",
       "      <td>5.924854e+07</td>\n",
       "      <td>6.246784e+07</td>\n",
       "      <td>5.924854e+07</td>\n",
       "    </tr>\n",
       "    <tr>\n",
       "      <th>mean</th>\n",
       "      <td>-3.310482e+01</td>\n",
       "      <td>-3.197757e+01</td>\n",
       "      <td>1.469059e+02</td>\n",
       "      <td>1.482150e+02</td>\n",
       "      <td>1.901170e+00</td>\n",
       "    </tr>\n",
       "    <tr>\n",
       "      <th>std</th>\n",
       "      <td>1.963549e+00</td>\n",
       "      <td>1.992067e+00</td>\n",
       "      <td>3.793784e+00</td>\n",
       "      <td>3.809994e+00</td>\n",
       "      <td>5.585735e+00</td>\n",
       "    </tr>\n",
       "    <tr>\n",
       "      <th>min</th>\n",
       "      <td>-3.646739e+01</td>\n",
       "      <td>-3.600000e+01</td>\n",
       "      <td>1.406250e+02</td>\n",
       "      <td>1.412500e+02</td>\n",
       "      <td>-3.807373e-12</td>\n",
       "    </tr>\n",
       "    <tr>\n",
       "      <th>25%</th>\n",
       "      <td>-3.486911e+01</td>\n",
       "      <td>-3.366221e+01</td>\n",
       "      <td>1.434375e+02</td>\n",
       "      <td>1.450000e+02</td>\n",
       "      <td>3.838413e-06</td>\n",
       "    </tr>\n",
       "    <tr>\n",
       "      <th>50%</th>\n",
       "      <td>-3.300000e+01</td>\n",
       "      <td>-3.204188e+01</td>\n",
       "      <td>1.468750e+02</td>\n",
       "      <td>1.481250e+02</td>\n",
       "      <td>6.154947e-02</td>\n",
       "    </tr>\n",
       "    <tr>\n",
       "      <th>75%</th>\n",
       "      <td>-3.140170e+01</td>\n",
       "      <td>-3.015707e+01</td>\n",
       "      <td>1.501875e+02</td>\n",
       "      <td>1.513125e+02</td>\n",
       "      <td>1.020918e+00</td>\n",
       "    </tr>\n",
       "    <tr>\n",
       "      <th>max</th>\n",
       "      <td>-2.990000e+01</td>\n",
       "      <td>-2.790606e+01</td>\n",
       "      <td>1.537500e+02</td>\n",
       "      <td>1.556250e+02</td>\n",
       "      <td>4.329395e+02</td>\n",
       "    </tr>\n",
       "  </tbody>\n",
       "</table>\n",
       "</div>"
      ],
      "text/plain": [
       "            lat_min       lat_max       lon_min       lon_max  rain (mm/day)\n",
       "count  5.924854e+07  6.246784e+07  5.924854e+07  6.246784e+07   5.924854e+07\n",
       "mean  -3.310482e+01 -3.197757e+01  1.469059e+02  1.482150e+02   1.901170e+00\n",
       "std    1.963549e+00  1.992067e+00  3.793784e+00  3.809994e+00   5.585735e+00\n",
       "min   -3.646739e+01 -3.600000e+01  1.406250e+02  1.412500e+02  -3.807373e-12\n",
       "25%   -3.486911e+01 -3.366221e+01  1.434375e+02  1.450000e+02   3.838413e-06\n",
       "50%   -3.300000e+01 -3.204188e+01  1.468750e+02  1.481250e+02   6.154947e-02\n",
       "75%   -3.140170e+01 -3.015707e+01  1.501875e+02  1.513125e+02   1.020918e+00\n",
       "max   -2.990000e+01 -2.790606e+01  1.537500e+02  1.556250e+02   4.329395e+02"
      ]
     },
     "execution_count": 20,
     "metadata": {},
     "output_type": "execute_result"
    }
   ],
   "source": [
    "%%time\n",
    "df.describe()"
   ]
  },
  {
   "cell_type": "markdown",
   "id": "94536590-f519-4739-a752-b9dd994225c1",
   "metadata": {},
   "source": [
    "#### 5.1-b Changing `dtype`"
   ]
  },
  {
   "cell_type": "code",
   "execution_count": 21,
   "id": "1a0a7145-ae2e-41fa-8dad-97f0a1a3f0e0",
   "metadata": {},
   "outputs": [
    {
     "name": "stdout",
     "output_type": "stream",
     "text": [
      "CPU times: user 6 s, sys: 878 ms, total: 6.88 s\n",
      "Wall time: 6.89 s\n"
     ]
    },
    {
     "data": {
      "text/html": [
       "<div>\n",
       "<style scoped>\n",
       "    .dataframe tbody tr th:only-of-type {\n",
       "        vertical-align: middle;\n",
       "    }\n",
       "\n",
       "    .dataframe tbody tr th {\n",
       "        vertical-align: top;\n",
       "    }\n",
       "\n",
       "    .dataframe thead th {\n",
       "        text-align: right;\n",
       "    }\n",
       "</style>\n",
       "<table border=\"1\" class=\"dataframe\">\n",
       "  <thead>\n",
       "    <tr style=\"text-align: right;\">\n",
       "      <th></th>\n",
       "      <th>lat_min</th>\n",
       "      <th>lat_max</th>\n",
       "      <th>lon_min</th>\n",
       "      <th>lon_max</th>\n",
       "      <th>rain (mm/day)</th>\n",
       "    </tr>\n",
       "  </thead>\n",
       "  <tbody>\n",
       "    <tr>\n",
       "      <th>count</th>\n",
       "      <td>5.924854e+07</td>\n",
       "      <td>6.246784e+07</td>\n",
       "      <td>5.924854e+07</td>\n",
       "      <td>6.246784e+07</td>\n",
       "      <td>5.924854e+07</td>\n",
       "    </tr>\n",
       "    <tr>\n",
       "      <th>mean</th>\n",
       "      <td>-3.310497e+01</td>\n",
       "      <td>-3.197765e+01</td>\n",
       "      <td>1.469057e+02</td>\n",
       "      <td>1.482150e+02</td>\n",
       "      <td>1.901173e+00</td>\n",
       "    </tr>\n",
       "    <tr>\n",
       "      <th>std</th>\n",
       "      <td>1.963549e+00</td>\n",
       "      <td>1.992067e+00</td>\n",
       "      <td>3.793784e+00</td>\n",
       "      <td>3.809994e+00</td>\n",
       "      <td>5.585735e+00</td>\n",
       "    </tr>\n",
       "    <tr>\n",
       "      <th>min</th>\n",
       "      <td>-3.646739e+01</td>\n",
       "      <td>-3.600000e+01</td>\n",
       "      <td>1.406250e+02</td>\n",
       "      <td>1.412500e+02</td>\n",
       "      <td>-3.807373e-12</td>\n",
       "    </tr>\n",
       "    <tr>\n",
       "      <th>25%</th>\n",
       "      <td>-3.486911e+01</td>\n",
       "      <td>-3.366221e+01</td>\n",
       "      <td>1.434375e+02</td>\n",
       "      <td>1.450000e+02</td>\n",
       "      <td>3.838413e-06</td>\n",
       "    </tr>\n",
       "    <tr>\n",
       "      <th>50%</th>\n",
       "      <td>-3.300000e+01</td>\n",
       "      <td>-3.204189e+01</td>\n",
       "      <td>1.468750e+02</td>\n",
       "      <td>1.481250e+02</td>\n",
       "      <td>6.154947e-02</td>\n",
       "    </tr>\n",
       "    <tr>\n",
       "      <th>75%</th>\n",
       "      <td>-3.140170e+01</td>\n",
       "      <td>-3.015707e+01</td>\n",
       "      <td>1.501875e+02</td>\n",
       "      <td>1.513125e+02</td>\n",
       "      <td>1.020918e+00</td>\n",
       "    </tr>\n",
       "    <tr>\n",
       "      <th>max</th>\n",
       "      <td>-2.990000e+01</td>\n",
       "      <td>-2.790606e+01</td>\n",
       "      <td>1.537500e+02</td>\n",
       "      <td>1.556250e+02</td>\n",
       "      <td>4.329395e+02</td>\n",
       "    </tr>\n",
       "  </tbody>\n",
       "</table>\n",
       "</div>"
      ],
      "text/plain": [
       "            lat_min       lat_max       lon_min       lon_max  rain (mm/day)\n",
       "count  5.924854e+07  6.246784e+07  5.924854e+07  6.246784e+07   5.924854e+07\n",
       "mean  -3.310497e+01 -3.197765e+01  1.469057e+02  1.482150e+02   1.901173e+00\n",
       "std    1.963549e+00  1.992067e+00  3.793784e+00  3.809994e+00   5.585735e+00\n",
       "min   -3.646739e+01 -3.600000e+01  1.406250e+02  1.412500e+02  -3.807373e-12\n",
       "25%   -3.486911e+01 -3.366221e+01  1.434375e+02  1.450000e+02   3.838413e-06\n",
       "50%   -3.300000e+01 -3.204189e+01  1.468750e+02  1.481250e+02   6.154947e-02\n",
       "75%   -3.140170e+01 -3.015707e+01  1.501875e+02  1.513125e+02   1.020918e+00\n",
       "max   -2.990000e+01 -2.790606e+01  1.537500e+02  1.556250e+02   4.329395e+02"
      ]
     },
     "execution_count": 21,
     "metadata": {},
     "output_type": "execute_result"
    }
   ],
   "source": [
    " %%time\n",
    "df.astype('float32', errors='ignore').describe()"
   ]
  },
  {
   "cell_type": "code",
   "execution_count": 25,
   "id": "7db83198-ce72-42c4-aa5f-886f13929ed7",
   "metadata": {},
   "outputs": [
    {
     "name": "stdout",
     "output_type": "stream",
     "text": [
      "Memory usage with float64: 2998.46 MB\n",
      "Memory usage with float32: 1749.10 MB\n"
     ]
    }
   ],
   "source": [
    "print(f\"Memory usage with float64: {df[use_cols].memory_usage().sum() / 1e6:.2f} MB\")\n",
    "print(f\"Memory usage with float32: {df[use_cols].astype('float32', errors='ignore').memory_usage().sum() / 1e6:.2f} MB\")"
   ]
  },
  {
   "cell_type": "markdown",
   "id": "4024c76a-8336-42b7-a8fe-9a707b6134cc",
   "metadata": {
    "tags": []
   },
   "source": [
    "#### 5.1-c Selecting columns of interest"
   ]
  },
  {
   "cell_type": "code",
   "execution_count": 26,
   "id": "8d51e003-9d68-42c5-89e3-4ada5cf13df4",
   "metadata": {},
   "outputs": [
    {
     "name": "stdout",
     "output_type": "stream",
     "text": [
      "CPU times: user 6.8 s, sys: 1.34 s, total: 8.15 s\n",
      "Wall time: 8.15 s\n"
     ]
    },
    {
     "data": {
      "text/html": [
       "<div>\n",
       "<style scoped>\n",
       "    .dataframe tbody tr th:only-of-type {\n",
       "        vertical-align: middle;\n",
       "    }\n",
       "\n",
       "    .dataframe tbody tr th {\n",
       "        vertical-align: top;\n",
       "    }\n",
       "\n",
       "    .dataframe thead th {\n",
       "        text-align: right;\n",
       "    }\n",
       "</style>\n",
       "<table border=\"1\" class=\"dataframe\">\n",
       "  <thead>\n",
       "    <tr style=\"text-align: right;\">\n",
       "      <th></th>\n",
       "      <th>lat_min</th>\n",
       "      <th>lat_max</th>\n",
       "      <th>lon_min</th>\n",
       "      <th>lon_max</th>\n",
       "      <th>rain (mm/day)</th>\n",
       "    </tr>\n",
       "  </thead>\n",
       "  <tbody>\n",
       "    <tr>\n",
       "      <th>count</th>\n",
       "      <td>5.924854e+07</td>\n",
       "      <td>6.246784e+07</td>\n",
       "      <td>5.924854e+07</td>\n",
       "      <td>6.246784e+07</td>\n",
       "      <td>5.924854e+07</td>\n",
       "    </tr>\n",
       "    <tr>\n",
       "      <th>mean</th>\n",
       "      <td>-3.310482e+01</td>\n",
       "      <td>-3.197757e+01</td>\n",
       "      <td>1.469059e+02</td>\n",
       "      <td>1.482150e+02</td>\n",
       "      <td>1.901170e+00</td>\n",
       "    </tr>\n",
       "    <tr>\n",
       "      <th>std</th>\n",
       "      <td>1.963549e+00</td>\n",
       "      <td>1.992067e+00</td>\n",
       "      <td>3.793784e+00</td>\n",
       "      <td>3.809994e+00</td>\n",
       "      <td>5.585735e+00</td>\n",
       "    </tr>\n",
       "    <tr>\n",
       "      <th>min</th>\n",
       "      <td>-3.646739e+01</td>\n",
       "      <td>-3.600000e+01</td>\n",
       "      <td>1.406250e+02</td>\n",
       "      <td>1.412500e+02</td>\n",
       "      <td>-3.807373e-12</td>\n",
       "    </tr>\n",
       "    <tr>\n",
       "      <th>25%</th>\n",
       "      <td>-3.486911e+01</td>\n",
       "      <td>-3.366221e+01</td>\n",
       "      <td>1.434375e+02</td>\n",
       "      <td>1.450000e+02</td>\n",
       "      <td>3.838413e-06</td>\n",
       "    </tr>\n",
       "    <tr>\n",
       "      <th>50%</th>\n",
       "      <td>-3.300000e+01</td>\n",
       "      <td>-3.204188e+01</td>\n",
       "      <td>1.468750e+02</td>\n",
       "      <td>1.481250e+02</td>\n",
       "      <td>6.154947e-02</td>\n",
       "    </tr>\n",
       "    <tr>\n",
       "      <th>75%</th>\n",
       "      <td>-3.140170e+01</td>\n",
       "      <td>-3.015707e+01</td>\n",
       "      <td>1.501875e+02</td>\n",
       "      <td>1.513125e+02</td>\n",
       "      <td>1.020918e+00</td>\n",
       "    </tr>\n",
       "    <tr>\n",
       "      <th>max</th>\n",
       "      <td>-2.990000e+01</td>\n",
       "      <td>-2.790606e+01</td>\n",
       "      <td>1.537500e+02</td>\n",
       "      <td>1.556250e+02</td>\n",
       "      <td>4.329395e+02</td>\n",
       "    </tr>\n",
       "  </tbody>\n",
       "</table>\n",
       "</div>"
      ],
      "text/plain": [
       "            lat_min       lat_max       lon_min       lon_max  rain (mm/day)\n",
       "count  5.924854e+07  6.246784e+07  5.924854e+07  6.246784e+07   5.924854e+07\n",
       "mean  -3.310482e+01 -3.197757e+01  1.469059e+02  1.482150e+02   1.901170e+00\n",
       "std    1.963549e+00  1.992067e+00  3.793784e+00  3.809994e+00   5.585735e+00\n",
       "min   -3.646739e+01 -3.600000e+01  1.406250e+02  1.412500e+02  -3.807373e-12\n",
       "25%   -3.486911e+01 -3.366221e+01  1.434375e+02  1.450000e+02   3.838413e-06\n",
       "50%   -3.300000e+01 -3.204188e+01  1.468750e+02  1.481250e+02   6.154947e-02\n",
       "75%   -3.140170e+01 -3.015707e+01  1.501875e+02  1.513125e+02   1.020918e+00\n",
       "max   -2.990000e+01 -2.790606e+01  1.537500e+02  1.556250e+02   4.329395e+02"
      ]
     },
     "execution_count": 26,
     "metadata": {},
     "output_type": "execute_result"
    }
   ],
   "source": [
    "%%time\n",
    "# Reading specific column only\n",
    "df[use_cols].describe()"
   ]
  },
  {
   "cell_type": "code",
   "execution_count": 29,
   "id": "0f592f10-577d-483d-bf20-cb9b7763a869",
   "metadata": {},
   "outputs": [
    {
     "name": "stdout",
     "output_type": "stream",
     "text": [
      "Memory usage with orginal dataframe: 3498.20 MB\n",
      "Memory usage with selected column dataframe: 2998.46 MB\n"
     ]
    }
   ],
   "source": [
    "print(f\"Memory usage with orginal dataframe: {df.memory_usage().sum() / 1e6:.2f} MB\")\n",
    "print(f\"Memory usage with selected column dataframe: {df[use_cols].memory_usage().sum() / 1e6:.2f} MB\")"
   ]
  },
  {
   "cell_type": "markdown",
   "id": "ad71091f-60e5-425a-a454-1ad4993c040c",
   "metadata": {
    "tags": []
   },
   "source": [
    "#### 5.1-d Loading data in chunks"
   ]
  },
  {
   "cell_type": "code",
   "execution_count": null,
   "id": "f13cc845-7cd3-4f40-82b0-fbe07858bbde",
   "metadata": {},
   "outputs": [],
   "source": []
  },
  {
   "cell_type": "markdown",
   "id": "1488069b-f300-494e-adc4-d97b5802bb0d",
   "metadata": {},
   "source": [
    "### 6. Perform a simple EDA in R\n",
    "\n",
    "rubric={correctness:15,reasoning:10}\n",
    "\n",
    "1.  Choose one of the methods listed below for transferring the\n",
    "    dataframe (i.e., the entire dataset) from Python to R, and explain\n",
    "    why you opted for this approach instead of the others.\n",
    "    -   [Parquet\n",
    "        file](https://pages.github.ubc.ca/MDS-2022-23/DSCI_525_web-cloud-comp_students/lectures/lecture2.html#converting-csv-parquet)\n",
    "    -   [Pandas\n",
    "        exchange](https://pages.github.ubc.ca/MDS-2022-23/DSCI_525_web-cloud-comp_students/lectures/lecture1.html#use-r-and-python-interchangeably)\n",
    "    -   [Arrow\n",
    "        exchange](https://pages.github.ubc.ca/MDS-2022-23/DSCI_525_web-cloud-comp_students/lectures/lecture2.html#use-r-and-python-interchangeably-with-arrow)\n",
    "2.  Once you have the dataframe in R, perform a simple EDA."
   ]
  },
  {
   "cell_type": "code",
   "execution_count": 1,
   "id": "5eb0418c-8b4a-4ded-bd20-128ff59b5ba6",
   "metadata": {},
   "outputs": [],
   "source": [
    "import os\n",
    "os.environ['R_HOME'] = '/Users/clin404/miniconda3/envs/525/Lib/R' # Set this to your R path "
   ]
  },
  {
   "cell_type": "code",
   "execution_count": null,
   "id": "2ccdd907-fa38-4bf3-b7d6-ab12951f9ccf",
   "metadata": {},
   "outputs": [
    {
     "name": "stderr",
     "output_type": "stream",
     "text": [
      "Unable to determine R library path: [Errno 2] No such file or directory: '/Users/clin404/miniconda3/envs/525/Lib/R/bin/Rscript'\n"
     ]
    }
   ],
   "source": [
    "%load_ext rpy2.ipython"
   ]
  },
  {
   "cell_type": "code",
   "execution_count": null,
   "id": "240acc2f-1452-499b-8114-c13d25d393dc",
   "metadata": {},
   "outputs": [],
   "source": []
  },
  {
   "cell_type": "code",
   "execution_count": null,
   "id": "c340cd12-e734-4d12-83fc-190b6aecb10c",
   "metadata": {},
   "outputs": [],
   "source": []
  },
  {
   "cell_type": "code",
   "execution_count": 27,
   "id": "9d7eaf2b-5ab5-4495-a852-63a8a826d06b",
   "metadata": {},
   "outputs": [
    {
     "name": "stderr",
     "output_type": "stream",
     "text": [
      "UsageError: Cell magic `%%R` not found.\n"
     ]
    }
   ],
   "source": [
    "%%R -i r_table\n",
    "start_time <- Sys.time()\n",
    "\n",
    "suppressMessages(library(dplyr))\n",
    "result <- r_table %>% \n",
    "    group_by(model) %>% \n",
    "    summarize(\n",
    "        max_rain = max(`rain (mm/day)`),\n",
    "        median_rain = median(`rain (mm/day)`),\n",
    "        mean_rain = mean(`rain (mm/day)`),\n",
    "        min_rain = min(`rain (mm/day)`)\n",
    "    )\n",
    "\n",
    "end_time <- Sys.time()\n",
    "print(result %>% collect())\n",
    "print(end_time - start_time)"
   ]
  },
  {
   "cell_type": "markdown",
   "id": "afd563c4-07dc-4e5a-ade2-5565b9531936",
   "metadata": {},
   "source": [
    "## Specific expectations for this milestone\n",
    "\n",
    "-   In this milestone, we are looking for a well-documented and\n",
    "    self-explanatory notebook that explores different options to tackle\n",
    "    big data on your laptop.\n",
    "-   Please discuss any challenges or difficulties you faced when dealing\n",
    "    with this large amount of data on your laptop. You can stop\n",
    "    combining the data if it takes more than 30 minutes. Briefly explain\n",
    "    your approach to overcoming the challenges or reasons why you could\n",
    "    not overcome them.\n",
    "-   For questions 5 and 6, you are free to choose any exploratory data\n",
    "    analysis (EDA) task you want. Visualization is not necessary;\n",
    "    summarizing the data is enough. However, if you want to install\n",
    "    additional packages for visualization that are not included in the\n",
    "    .yml file, feel free to install them on top of your notebook. If you\n",
    "    want to install packages in R, you can do so using\n",
    "    `install.packages(\"dplyr\")` under `%%R` magic cell.\n",
    "-   If someone in your team is facing issues with using R in a Python\n",
    "    notebook, you can ignore it, as you will not need it for any other\n",
    "    milestones. The main purpose of showing it in the lecture was to\n",
    "    introduce and get a feel for the serialization and deserialization\n",
    "    concept.\n",
    "-   You only need to ***compare*** the time with other team members for\n",
    "    questions 4 and 5. You do not need to do this for question 6. You\n",
    "    can use the following table to record your results. Feel free to add\n",
    "    any other relevant columns.\n",
    "\n",
    "| Team Member | Operating System | RAM | Processor | Is SSD | Time taken (merge/save to csv)|\n",
    "|:-----------:|:----------------:|:---:|:---------:|:------:|:----------:|\n",
    "|  Chen Lin   |     OSX 13.2     | 32GB|Apple M2 Max|   Yes   |   38.3s/2min 58s |\n",
    "|  Member 2   |                  |     |           |        |            |\n",
    "|  Member 3   |                  |     |           |        |            |\n",
    "|  Member 4   |                  |     |           |        |            |\n",
    "\n",
    "<br><br> \\## Submission instructions rubric={mechanics:5}\n",
    "\n",
    "In the textbox provided on Canvas for the Milestone 1 assignment\n",
    "include:\n",
    "\n",
    "-   The GitHub URL to your notebook.\n",
    "\n",
    "As comment include - Repo link - Teamwork contract"
   ]
  },
  {
   "cell_type": "markdown",
   "id": "e6b6d533-5373-4bfd-bd77-1349016066e0",
   "metadata": {},
   "source": []
  },
  {
   "cell_type": "markdown",
   "id": "58d5446b-cb90-4e4e-a3a0-63ccf39c5a6b",
   "metadata": {},
   "source": []
  },
  {
   "cell_type": "markdown",
   "id": "8ae676fd-17c1-4e98-8015-b187d85653d0",
   "metadata": {},
   "source": []
  },
  {
   "cell_type": "markdown",
   "id": "b15a573d-1a6e-4c06-a334-772897e3ef7b",
   "metadata": {},
   "source": []
  },
  {
   "cell_type": "markdown",
   "id": "fb558f90-ac40-4f47-aac2-52fab7e2e9fe",
   "metadata": {},
   "source": []
  },
  {
   "cell_type": "markdown",
   "id": "c5586de6-8444-4874-ae76-1add3d645b89",
   "metadata": {},
   "source": []
  },
  {
   "cell_type": "markdown",
   "id": "efa95dc6-4554-4151-89f3-d1f7f3e667fa",
   "metadata": {},
   "source": []
  },
  {
   "cell_type": "markdown",
   "id": "874a3f87-7522-4e81-8025-9c4b38e90fc5",
   "metadata": {},
   "source": []
  },
  {
   "cell_type": "markdown",
   "id": "4064f421-416c-41d6-9741-6c3ca9f6d6fa",
   "metadata": {},
   "source": []
  },
  {
   "cell_type": "markdown",
   "id": "9a93937f-7177-4831-ace5-df4b1d2965a6",
   "metadata": {},
   "source": []
  },
  {
   "cell_type": "markdown",
   "id": "4e6b78cf-80c8-4992-93ce-14218b96d297",
   "metadata": {},
   "source": []
  },
  {
   "cell_type": "markdown",
   "id": "4b534206-417b-4fb8-8d4a-9330ae9dc9ba",
   "metadata": {},
   "source": []
  }
 ],
 "metadata": {
  "kernelspec": {
   "display_name": "Python [conda env:525_2023]",
   "language": "python",
   "name": "conda-env-525_2023-py"
  },
  "language_info": {
   "codemirror_mode": {
    "name": "ipython",
    "version": 3
   },
   "file_extension": ".py",
   "mimetype": "text/x-python",
   "name": "python",
   "nbconvert_exporter": "python",
   "pygments_lexer": "ipython3",
   "version": "3.10.10"
  }
 },
 "nbformat": 4,
 "nbformat_minor": 5
}
